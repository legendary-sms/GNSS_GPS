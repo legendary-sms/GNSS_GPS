{
 "cells": [
  {
   "cell_type": "code",
   "execution_count": 29,
   "metadata": {},
   "outputs": [],
   "source": [
    "input_file='eph.txt'\n",
    "output_file='eph_out.txt' \n",
    "input_file_2='rcvr.txt'\n",
    "output_file_2='rcvr_out.txt'\n"
   ]
  },
  {
   "cell_type": "code",
   "execution_count": 30,
   "metadata": {},
   "outputs": [],
   "source": [
    "def process_file(input_file, output_file):\n",
    "    ''' To open the files and save it in the form of a \n",
    "    comma delimited file  that is with a different filename'''\n",
    "    with open(input_file, 'r') as f:\n",
    "        lines = f.readlines()\n",
    "    \n",
    "    with open(output_file, 'w') as f:\n",
    "        for line in lines:\n",
    "            # Replace multiple spaces with a single space, then split by space and join with commas\n",
    "            join_with_commas = ','.join(line.split())\n",
    "            f.write(join_with_commas + '\\n')\n",
    "\n",
    "# Process the first input file and write to the first output file\n",
    "process_file(input_file, output_file)\n",
    "\n",
    "# Process the second input file and write to the second output file\n",
    "process_file(input_file_2, output_file_2)"
   ]
  },
  {
   "cell_type": "code",
   "execution_count": 31,
   "metadata": {},
   "outputs": [
    {
     "name": "stdout",
     "output_type": "stream",
     "text": [
      "eph_out.txt\n"
     ]
    }
   ],
   "source": [
    "print(output_file)"
   ]
  },
  {
   "cell_type": "code",
   "execution_count": 32,
   "metadata": {},
   "outputs": [],
   "source": [
    "def parsed_nav_data(nav_data):\n",
    "    '''Passing the text format of nav data into tuples of float and int  \n",
    "    and latter change them to an array/ matrix'''\n",
    "    try:\n",
    "        parts=nav_data.strip().split(\",\")\n",
    "        Rcv_tow, Sat_PRn, Ref_clck, Ref_eph, af_0, af_1, af_2, ura, eccen, sqrt_a, mean_motn_correc, mean_ano_ref, arg_perigee, lon_ascdn_node, inc_at_ref_t, rt_right_ascen, rt_inc_angn, arg_lat_ang_sin, arg_lat_corr_cos, inc_crrn_sin, inc_crr_cos, radius_crrtn_sin, radius_crrtn_cos, issued_data_no =parts\n",
    "        Rcv_tow=float(Rcv_tow)\n",
    "        Sat_PRn=int(Sat_PRn)\n",
    "        Ref_clck=float(Ref_clck)\n",
    "        Ref_eph=float(Ref_eph) \n",
    "        af_0=float(af_0)\n",
    "        af_1=float(af_1)\n",
    "        af_2=float(af_2)\n",
    "        ura=float(ura)\n",
    "        eccen=float(eccen)\n",
    "        sqrt_a=float(sqrt_a)\n",
    "        mean_motn_correc=float(mean_motn_correc)\n",
    "        mean_ano_ref=float(mean_ano_ref)\n",
    "        arg_perigee=float(arg_perigee)\n",
    "        lon_ascdn_node=float(lon_ascdn_node)\n",
    "        inc_at_ref_t=float(inc_at_ref_t)\n",
    "        rt_right_ascen=float(rt_right_ascen)\n",
    "        rt_inc_angn=float(rt_inc_angn)\n",
    "        arg_lat_ang_sin=float(arg_lat_ang_sin)\n",
    "        arg_lat_corr_cos=float(arg_lat_corr_cos)\n",
    "        inc_crrn_sin=float(inc_crrn_sin)\n",
    "        inc_crr_cos=float(inc_crr_cos)\n",
    "        radius_crrtn_sin=float(radius_crrtn_sin)\n",
    "        radius_crrtn_cos=float(radius_crrtn_cos)\n",
    "        issued_data_no=int(issued_data_no)\n",
    "        return Rcv_tow, Sat_PRn, Ref_clck, Ref_eph, af_0, af_1, af_2, ura, eccen, sqrt_a, mean_motn_correc, mean_ano_ref, arg_perigee, lon_ascdn_node, inc_at_ref_t, rt_right_ascen, rt_inc_angn, arg_lat_ang_sin, arg_lat_corr_cos, inc_crrn_sin, inc_crr_cos, radius_crrtn_sin, radius_crrtn_cos, issued_data_no\n",
    "    except ValueError as e:\n",
    "        print(f\"the value does not follow the required format \")\n",
    "        return None\n",
    "    except Exception as e:\n",
    "        print(f\"there is something wrong with argument\")\n",
    "        return None\n",
    "    # Rcv_tow, Sat_PRn, Ref_clck, Ref_eph, af_0, af_1, af_2, ura, eccen, sqrt_a, mean_motn_correc, mean_ano_ref, arg_perigee, lon_ascdn_node, inc_at_ref_t, rt_right_ascen, rt_inc_angn, arg_lat_ang_sin, arg_lat_corr_cos, inc_crrn_sin, inc_crr_cos, radius_crrtn_sin, radius_crrtn_cos, issued_data_no =parts\n",
    "    # w.write(f'{Rcv_tow}, {Sat_PRn}, {Ref_clck}, {Ref_eph}, {af_0}, {af_1}, {af_2}, {ura}, {eccen}, {sqrt_a}, {mean_motn_correc}, {mean_ano_ref}, {arg_perigee}, {lon_ascdn_node}, {inc_at_ref_t}, {rt_right_ascen}, {rt_inc_angn}, {arg_lat_ang_sin}, {arg_lat_corr_cos}, {inc_crrn_sin}, {inc_crr_cos}, {radius_crrtn_sin}, {radius_crrtn_cos}, {issued_data_no}\\n')"
   ]
  },
  {
   "cell_type": "code",
   "execution_count": 33,
   "metadata": {},
   "outputs": [],
   "source": [
    "Nav_data='440992.001734540,5,4.464000e+005,4.464000e+005,1.890743e-004,1.932676e-012,0.000000e+000,3.330000e+001,1.467708e-003,5.153732e+003,5.170930e-009,-1.755016e+000,-7.164009e-003,1.554963e+000,9.390960e-001,-8.517855e-009,4.096599e-010,5.774200e-006,3.652647e-006,-2.607703e-008,-2.793968e-008,6.896875e+001,2.565000e+002,38'"
   ]
  },
  {
   "cell_type": "code",
   "execution_count": 34,
   "metadata": {},
   "outputs": [
    {
     "name": "stdout",
     "output_type": "stream",
     "text": [
      "(440992.00173454, 5, 446400.0, 446400.0, 0.0001890743, 1.932676e-12, 0.0, 33.3, 0.001467708, 5153.732, 5.17093e-09, -1.755016, -0.007164009, 1.554963, 0.939096, -8.517855e-09, 4.096599e-10, 5.7742e-06, 3.652647e-06, -2.607703e-08, -2.793968e-08, 68.96875, 256.5, 38)\n"
     ]
    }
   ],
   "source": [
    "results_nave=parsed_nav_data(Nav_data)\n",
    "print(results_nave)"
   ]
  },
  {
   "cell_type": "code",
   "execution_count": 35,
   "metadata": {},
   "outputs": [],
   "source": [
    "def parsed_rcvr_data(rcvr_data):\n",
    "    '''Passing the text format of observation data into tuples of float and int  \n",
    "    and latter change them to an array/ matrix'''\n",
    "    try:\n",
    "        parts=rcvr_data.strip().split(\",\")\n",
    "        Rcv_tow, Sat_PRn, pseu_range, n_crrier_cy, phase, cyc_slip_det, sig_noise_ratio =parts\n",
    "        Rcv_tow=float(Rcv_tow)\n",
    "        Sat_PRn=int(Sat_PRn)\n",
    "        pseu_range=float(pseu_range)\n",
    "        n_crrier_cy=float(n_crrier_cy)\n",
    "        phase=float(phase)\n",
    "        cyc_slip_det=int(cyc_slip_det)\n",
    "        sig_noise_ratio=float(sig_noise_ratio)\n",
    "        return Rcv_tow, Sat_PRn, pseu_range, n_crrier_cy, phase, cyc_slip_det, sig_noise_ratio\n",
    "    except ValueError as e:\n",
    "        print(f\"the value does not follow the required format \")\n",
    "        return None\n",
    "    except Exception as e:\n",
    "        print(f\"there is something wrong with argument\")\n",
    "        return None \n"
   ]
  },
  {
   "cell_type": "code",
   "execution_count": 36,
   "metadata": {},
   "outputs": [],
   "source": [
    "observ='440992.001734540,6,20840807.098,2549752,1589,0,49'"
   ]
  },
  {
   "cell_type": "code",
   "execution_count": 37,
   "metadata": {},
   "outputs": [
    {
     "name": "stdout",
     "output_type": "stream",
     "text": [
      "(440992.00173454, 6, 20840807.098, 2549752.0, 1589.0, 0, 49.0)\n"
     ]
    }
   ],
   "source": [
    "results_observ=parsed_rcvr_data(observ)\n",
    "print(results_observ)"
   ]
  }
 ],
 "metadata": {
  "kernelspec": {
   "display_name": ".venv",
   "language": "python",
   "name": "python3"
  },
  "language_info": {
   "codemirror_mode": {
    "name": "ipython",
    "version": 3
   },
   "file_extension": ".py",
   "mimetype": "text/x-python",
   "name": "python",
   "nbconvert_exporter": "python",
   "pygments_lexer": "ipython3",
   "version": "3.11.9"
  }
 },
 "nbformat": 4,
 "nbformat_minor": 2
}
